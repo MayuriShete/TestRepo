{
    "cells": [
        {
            "cell_type": "markdown",
            "metadata": {},
            "source": "First Jupiter notebook"
        },
        {
            "cell_type": "code",
            "execution_count": 1,
            "metadata": {},
            "outputs": [
                {
                    "data": {
                        "text/html": "<div>\n<style scoped>\n    .dataframe tbody tr th:only-of-type {\n        vertical-align: middle;\n    }\n\n    .dataframe tbody tr th {\n        vertical-align: top;\n    }\n\n    .dataframe thead th {\n        text-align: right;\n    }\n</style>\n<table border=\"1\" class=\"dataframe\">\n  <thead>\n    <tr style=\"text-align: right;\">\n      <th></th>\n      <th>Customer No</th>\n      <th>Customer name</th>\n      <th>salary</th>\n    </tr>\n  </thead>\n  <tbody>\n    <tr>\n      <th>0</th>\n      <td>1</td>\n      <td>ABC</td>\n      <td>100</td>\n    </tr>\n    <tr>\n      <th>1</th>\n      <td>2</td>\n      <td>DEF</td>\n      <td>200</td>\n    </tr>\n    <tr>\n      <th>2</th>\n      <td>3</td>\n      <td>GHI</td>\n      <td>300</td>\n    </tr>\n    <tr>\n      <th>3</th>\n      <td>4</td>\n      <td>JKL</td>\n      <td>500</td>\n    </tr>\n    <tr>\n      <th>4</th>\n      <td>5</td>\n      <td>MNO</td>\n      <td>100</td>\n    </tr>\n  </tbody>\n</table>\n</div>",
                        "text/plain": "   Customer No Customer name  salary\n0            1           ABC     100\n1            2           DEF     200\n2            3           GHI     300\n3            4           JKL     500\n4            5           MNO     100"
                    },
                    "execution_count": 1,
                    "metadata": {},
                    "output_type": "execute_result"
                }
            ],
            "source": "# The code was removed by Watson Studio for sharing."
        },
        {
            "cell_type": "code",
            "execution_count": null,
            "metadata": {},
            "outputs": [],
            "source": ""
        }
    ],
    "metadata": {
        "kernelspec": {
            "display_name": "Python 3.6",
            "language": "python",
            "name": "python3"
        },
        "language_info": {
            "codemirror_mode": {
                "name": "ipython",
                "version": 3
            },
            "file_extension": ".py",
            "mimetype": "text/x-python",
            "name": "python",
            "nbconvert_exporter": "python",
            "pygments_lexer": "ipython3",
            "version": "3.6.9"
        }
    },
    "nbformat": 4,
    "nbformat_minor": 1
}